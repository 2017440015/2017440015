{
 "cells": [
  {
   "cell_type": "markdown",
   "id": "11ec492f",
   "metadata": {},
   "source": [
    "행렬 덧셈"
   ]
  },
  {
   "cell_type": "code",
   "execution_count": 19,
   "id": "ea90b38a",
   "metadata": {},
   "outputs": [
    {
     "name": "stdout",
     "output_type": "stream",
     "text": [
      "3 3\n",
      "1 1 1\n",
      "2 2 2 \n",
      "0 1 0\n",
      "3 3 3\n",
      "4 4 4\n",
      "5 5 100\n",
      "4 4 4\n",
      "6 6 6\n",
      "5 6 100\n"
     ]
    }
   ],
   "source": [
    "# 정답\n",
    "n,m = map(int, input().split())\n",
    "a = []\n",
    "b = []\n",
    "for _ in range(n):\n",
    "    a.append(list(map(int,input().split())))\n",
    "for _ in range(n):\n",
    "    b.append(list(map(int,input().split())))\n",
    "\n",
    "for i in range(n):\n",
    "    total = []\n",
    "    for j in range(m):\n",
    "        total.append(a[i][j] + b[i][j])\n",
    "    print(*total)"
   ]
  },
  {
   "cell_type": "code",
   "execution_count": 18,
   "id": "49de545d",
   "metadata": {},
   "outputs": [
    {
     "name": "stdout",
     "output_type": "stream",
     "text": [
      "3 3 \n",
      "1 1 1\n",
      "2 2 2\n",
      "0 1 0\n",
      "3 3 3\n",
      "4 4 4\n",
      "5 5 100\n",
      "4 4 4\n",
      "6 6 6\n",
      "5 6 100\n"
     ]
    }
   ],
   "source": [
    "# 정답\n",
    "n,m = map(int, input().split())\n",
    "a = []\n",
    "b = []\n",
    "for _ in range(n):\n",
    "    a.append(list(map(int,input().split())))\n",
    "for _ in range(n):\n",
    "    b.append(list(map(int,input().split())))\n",
    "total = []\n",
    "for i in range(n):\n",
    "    c = []\n",
    "    for j in range(m):\n",
    "        c.append(a[i][j] + b[i][j])\n",
    "    total.append(c)\n",
    "for i in range(n): \n",
    "    print(*total[i])"
   ]
  },
  {
   "cell_type": "code",
   "execution_count": 10,
   "id": "0f84b2ab",
   "metadata": {},
   "outputs": [
    {
     "name": "stdout",
     "output_type": "stream",
     "text": [
      "[3]\n"
     ]
    }
   ],
   "source": [
    "total =[]\n",
    "total.append(3)\n",
    "print(total)"
   ]
  },
  {
   "cell_type": "code",
   "execution_count": 2,
   "id": "1a78a5f2",
   "metadata": {},
   "outputs": [
    {
     "data": {
      "text/plain": [
       "[4, 4, 4, 6, 6, 6, 5, 6, 100]"
      ]
     },
     "execution_count": 2,
     "metadata": {},
     "output_type": "execute_result"
    }
   ],
   "source": [
    "total"
   ]
  },
  {
   "cell_type": "code",
   "execution_count": 3,
   "id": "fa93702c",
   "metadata": {},
   "outputs": [
    {
     "data": {
      "text/plain": [
       "[4, 4, 4]"
      ]
     },
     "execution_count": 3,
     "metadata": {},
     "output_type": "execute_result"
    }
   ],
   "source": [
    "total[:3]"
   ]
  },
  {
   "cell_type": "markdown",
   "id": "60e918cd",
   "metadata": {},
   "source": [
    "최댓값"
   ]
  },
  {
   "cell_type": "code",
   "execution_count": 23,
   "id": "dda827df",
   "metadata": {},
   "outputs": [
    {
     "name": "stdout",
     "output_type": "stream",
     "text": [
      "3 23 85 34 17 74 25 52 65\n",
      "10 7 39 42 88 52 14 72 63\n",
      "87 42 18 78 53 45 18 84 53\n",
      "34 28 64 85 12 16 75 36 55\n",
      "21 77 45 35 28 75 90 76 1\n",
      "25 87 65 15 28 11 37 28 74\n",
      "65 27 75 41 7 89 78 64 39\n",
      "47 47 70 45 23 65 3 41 44\n",
      "87 13 82 38 31 12 29 29 80\n"
     ]
    },
    {
     "ename": "IndexError",
     "evalue": "list index out of range",
     "output_type": "error",
     "traceback": [
      "\u001b[1;31m---------------------------------------------------------------------------\u001b[0m",
      "\u001b[1;31mIndexError\u001b[0m                                Traceback (most recent call last)",
      "Cell \u001b[1;32mIn[23], line 12\u001b[0m\n\u001b[0;32m     10\u001b[0m a_list \u001b[38;5;241m=\u001b[39m []\n\u001b[0;32m     11\u001b[0m \u001b[38;5;28;01mfor\u001b[39;00m i \u001b[38;5;129;01min\u001b[39;00m \u001b[38;5;28mrange\u001b[39m(\u001b[38;5;241m9\u001b[39m):\n\u001b[1;32m---> 12\u001b[0m     a_list\u001b[38;5;241m.\u001b[39mappend(\u001b[43ma\u001b[49m\u001b[43m[\u001b[49m\u001b[43mi\u001b[49m\u001b[43m]\u001b[49m)\n\u001b[0;32m     13\u001b[0m \u001b[38;5;28;01mfor\u001b[39;00m i \u001b[38;5;129;01min\u001b[39;00m \u001b[38;5;28mrange\u001b[39m(\u001b[38;5;241m9\u001b[39m):\n\u001b[0;32m     14\u001b[0m     a_max \u001b[38;5;241m=\u001b[39m \u001b[38;5;241m0\u001b[39m\n",
      "\u001b[1;31mIndexError\u001b[0m: list index out of range"
     ]
    }
   ],
   "source": [
    "a1 = [list(map(int, input().split()))]\n",
    "a2 = [list(map(int, input().split()))]\n",
    "a3 = [list(map(int, input().split()))]\n",
    "a4 = [list(map(int, input().split()))]\n",
    "a5 = [list(map(int, input().split()))]\n",
    "a6 = [list(map(int, input().split()))]\n",
    "a7 = [list(map(int, input().split()))]\n",
    "a8 = [list(map(int, input().split()))]\n",
    "a9 = [list(map(int, input().split()))]\n",
    "a_list = []\n",
    "for i in range(9):\n",
    "    a_list.append(a[i])\n",
    "for i in range(9):\n",
    "    a_max = 0\n",
    "    if a_max < max(a[i]):\n",
    "        a_max = max(a[i])\n",
    "    else:\n",
    "        continue\n",
    "print(a_max)"
   ]
  },
  {
   "cell_type": "code",
   "execution_count": 87,
   "id": "dae45d10",
   "metadata": {},
   "outputs": [
    {
     "name": "stdout",
     "output_type": "stream",
     "text": [
      "0 0 0 0 0 0 0 0 0\n",
      "0 0 0 0 0 0 0 0 0\n",
      "0 0 0 0 0 0 0 0 0\n",
      "0 0 0 0 0 0 0 0 0\n",
      "0 0 0 0 0 0 0 0 0\n",
      "0 0 0 0 0 0 0 0 0\n",
      "0 0 0 0 0 0 0 0 0\n",
      "0 0 0 0 0 0 0 0 0\n",
      "0 0 0 0 0 0 0 0 0\n",
      "0\n",
      "9 9\n"
     ]
    }
   ],
   "source": [
    "a_list = []\n",
    "for i in range(9):\n",
    "    a = list(map(int, input().split()))\n",
    "    a_list.append(a)\n",
    "\n",
    "a_max = 0\n",
    "for i in range(9):\n",
    "    for j in range(9):\n",
    "        if a_max < a_list[i][j]:\n",
    "            a_max = a_list[i][j]\n",
    "            x, y = i+1, j+1\n",
    "        if a_list[i][j] == 0:\n",
    "            continue\n",
    "if a_max == 0:\n",
    "    x,y = 9,9       \n",
    "\n",
    "\n",
    "print(a_max)\n",
    "print(x, y)"
   ]
  },
  {
   "cell_type": "code",
   "execution_count": 86,
   "id": "6a752840",
   "metadata": {},
   "outputs": [
    {
     "name": "stdout",
     "output_type": "stream",
     "text": [
      "0 0 0 0 0 0 0 0 0\n",
      "0 0 0 0 0 0 0 0 0\n",
      "0 0 0 0 0 0 0 0 0\n",
      "0 0 0 0 0 0 0 0 0\n",
      "0 0 0 0 0 0 0 0 0\n",
      "0 0 0 0 0 0 0 0 0\n",
      "0 0 0 0 0 0 0 0 0\n",
      "0 0 0 0 0 0 0 0 0\n",
      "0 0 0 0 0 0 0 0 0\n",
      "0\n",
      "9 9\n"
     ]
    }
   ],
   "source": [
    "a_list = []\n",
    "for i in range(9):\n",
    "    a = list(map(int, input().split()))\n",
    "    a_list.append(a)\n",
    "\n",
    "a_max = 0\n",
    "for i in range(9):\n",
    "    for j in range(9):\n",
    "        if a_max <= a_list[i][j]:\n",
    "            a_max = a_list[i][j]\n",
    "            x, y = i+1, j+1\n",
    "        if a_list[i][j] == 0:\n",
    "            continue\n",
    "\n",
    "print(a_max)\n",
    "print(x, y)"
   ]
  },
  {
   "cell_type": "code",
   "execution_count": 68,
   "id": "90a65df8",
   "metadata": {},
   "outputs": [
    {
     "name": "stdout",
     "output_type": "stream",
     "text": [
      "<enumerate object at 0x000002210A85DCC0>\n"
     ]
    }
   ],
   "source": [
    "a_list\n",
    "x = 5\n",
    "res_list = enumerate(a_list[x-1])\n",
    "print(res_list)"
   ]
  },
  {
   "cell_type": "code",
   "execution_count": 72,
   "id": "a8b14d33",
   "metadata": {},
   "outputs": [
    {
     "data": {
      "text/plain": [
       "[87, 42, 18, 78, 53, 45, 18, 84, 53]"
      ]
     },
     "execution_count": 72,
     "metadata": {},
     "output_type": "execute_result"
    }
   ],
   "source": [
    "max(a_list)"
   ]
  },
  {
   "cell_type": "code",
   "execution_count": 49,
   "id": "bbe3d2f9",
   "metadata": {},
   "outputs": [
    {
     "name": "stdout",
     "output_type": "stream",
     "text": [
      "2 3 3 3\n",
      "2 4 6 4\n",
      "2 3 5 4\n",
      "2 4 6 4\n",
      "2 4 5 5\n"
     ]
    }
   ],
   "source": [
    "d = []\n",
    "for i in range(5):\n",
    "    c = list(map(int, input().split()))\n",
    "    d.append(c)"
   ]
  },
  {
   "cell_type": "markdown",
   "id": "1cd4ca3f",
   "metadata": {},
   "source": [
    "세로읽기"
   ]
  },
  {
   "cell_type": "code",
   "execution_count": 115,
   "id": "cad2f22a",
   "metadata": {},
   "outputs": [
    {
     "name": "stdout",
     "output_type": "stream",
     "text": [
      "AABCDD\n",
      "afzz\n",
      "09121\n",
      "a8EWg6\n",
      "P5h3kx\n",
      "Aa0aPAf985Bz1EhCz2W3D1gkD6x\n"
     ]
    }
   ],
   "source": [
    "arr = [list(map(str, input())) for i in range(5)]\n",
    "long = 0\n",
    "word_list = []\n",
    "\n",
    "for i in range(5):\n",
    "    n = len(arr[i])\n",
    "    if long <= n:\n",
    "        long = n\n",
    "\n",
    "for j in range(long):\n",
    "    for i in range(5):\n",
    "        try:\n",
    "            word_list.extend(arr[i][j])\n",
    "        except:pass\n",
    "            \n",
    "result = \"\"\n",
    "for s in word_list:\n",
    "    result += s\n",
    "    \n",
    "print(result)"
   ]
  },
  {
   "cell_type": "code",
   "execution_count": 116,
   "id": "46c0b7f8",
   "metadata": {},
   "outputs": [
    {
     "data": {
      "text/plain": [
       "[['A', 'A', 'B', 'C', 'D', 'D'],\n",
       " ['a', 'f', 'z', 'z'],\n",
       " ['0', '9', '1', '2', '1'],\n",
       " ['a', '8', 'E', 'W', 'g', '6'],\n",
       " ['P', '5', 'h', '3', 'k', 'x']]"
      ]
     },
     "execution_count": 116,
     "metadata": {},
     "output_type": "execute_result"
    }
   ],
   "source": [
    "arr"
   ]
  },
  {
   "cell_type": "code",
   "execution_count": 93,
   "id": "c5b5d087",
   "metadata": {},
   "outputs": [
    {
     "name": "stdout",
     "output_type": "stream",
     "text": [
      "3\n"
     ]
    }
   ],
   "source": [
    "long = 0\n",
    "for i in range(5):\n",
    "    n = len(arr[i])\n",
    "    if long <= n:\n",
    "        long = n\n",
    "print(long)"
   ]
  },
  {
   "cell_type": "code",
   "execution_count": null,
   "id": "1297b37c",
   "metadata": {},
   "outputs": [],
   "source": [
    "# join 함수 쓰는법\n",
    "my_list = [\"Hello\", \"world\", \"!\"]\n",
    "result = ''.join(my_list)\n",
    "print(result)\n",
    "\n",
    "# for루프 \n",
    "my_list = [\"Hello\", \"world\", \"!\"]\n",
    "result = \"\"\n",
    "for element in my_list:\n",
    "    result += element\n",
    "print(result)\n",
    "\n",
    "# list컴프리헨션 & for루프\n",
    "my_list = [\"Hello\", \"world\", \"!\"]\n",
    "result = ''.join([element for element in my_list])\n",
    "print(result)"
   ]
  },
  {
   "cell_type": "markdown",
   "id": "98434ca5",
   "metadata": {},
   "source": [
    "색종이"
   ]
  },
  {
   "cell_type": "code",
   "execution_count": 118,
   "id": "f5bfd29a",
   "metadata": {},
   "outputs": [
    {
     "name": "stdout",
     "output_type": "stream",
     "text": [
      "3\n",
      "3 7\n",
      "15 7\n",
      "5 2\n",
      "3\n",
      "7\n",
      "15\n",
      "7\n",
      "5\n",
      "2\n"
     ]
    }
   ],
   "source": [
    "n = int(input())\n",
    "arr = [list(map(int, input().split())) for i in range(n)]\n",
    "\n",
    "s = n*100\n",
    "for i in range(3):\n",
    "    for j in range(2):\n",
    "        a = arr[i][j]"
   ]
  },
  {
   "cell_type": "code",
   "execution_count": 119,
   "id": "a0b1c2c5",
   "metadata": {},
   "outputs": [
    {
     "data": {
      "text/plain": [
       "[[3, 7], [15, 7], [5, 2]]"
      ]
     },
     "execution_count": 119,
     "metadata": {},
     "output_type": "execute_result"
    }
   ],
   "source": [
    "arr"
   ]
  },
  {
   "cell_type": "code",
   "execution_count": 46,
   "id": "7954ed47",
   "metadata": {},
   "outputs": [
    {
     "name": "stdout",
     "output_type": "stream",
     "text": [
      "3\n",
      "3 7\n",
      "15 7\n",
      "5 2\n"
     ]
    }
   ],
   "source": [
    "n = int(input())\n",
    "arr = []\n",
    "for i in range(n):\n",
    "    temp = []\n",
    "    temp = list(input().split())\n",
    "    arr.append(temp)\n",
    "minus = []\n",
    "for i in range(n):\n",
    "    cnt = i+1\n",
    "    for cnt in range(i+1, n):\n",
    "        try:    \n",
    "            if (abs(int(arr[i][0])-int(arr[cnt][0]))<10 \n",
    "                and abs(int(arr[i][1])-int(arr[cnt][1])))<10:\n",
    "                m = (abs(int(arr[i][0])-int(arr[cnt][0])))*(abs(int(arr[i][1])-int(arr[cnt][1])))\n",
    "                minus.append(m)\n",
    "                cnt +=1\n",
    "            else:pass\n",
    "        except:\n",
    "            pass\n"
   ]
  },
  {
   "cell_type": "code",
   "execution_count": 66,
   "id": "4c63fd6f",
   "metadata": {
    "scrolled": false
   },
   "outputs": [
    {
     "name": "stdout",
     "output_type": "stream",
     "text": [
      "3\n",
      "1 1\n",
      "2 1\n",
      "1 2\n",
      "39\n"
     ]
    }
   ],
   "source": [
    "n = int(input())\n",
    "arr = []\n",
    "for i in range(n):\n",
    "    temp = []\n",
    "    temp = list(input().split())\n",
    "    arr.append(temp)\n",
    "minus = []\n",
    "for i in range(n):\n",
    "    cnt = i+1\n",
    "    for cnt in range(i+1, n):\n",
    "        if ((abs(int(arr[i][0])-int(arr[cnt][0])) < 10)\n",
    "            and (abs(int(arr[i][1])-int(arr[cnt][1])) < 10)):\n",
    "            m = (10-(abs(int(arr[i][0])-int(arr[cnt][0]))))*(10-(abs(int(arr[i][1])-int(arr[cnt][1]))))\n",
    "            minus.append(m)\n",
    "            cnt +=1\n",
    "        else:pass\n",
    "S = (100*n) - sum(minus)\n",
    "print(S)"
   ]
  },
  {
   "cell_type": "code",
   "execution_count": 36,
   "id": "178c319d",
   "metadata": {},
   "outputs": [
    {
     "data": {
      "text/plain": [
       "[['3', '7'], ['15', '7'], ['5', '2']]"
      ]
     },
     "execution_count": 36,
     "metadata": {},
     "output_type": "execute_result"
    }
   ],
   "source": [
    "arr"
   ]
  },
  {
   "cell_type": "code",
   "execution_count": 24,
   "id": "7fc2b129",
   "metadata": {},
   "outputs": [
    {
     "data": {
      "text/plain": [
       "'3'"
      ]
     },
     "execution_count": 24,
     "metadata": {},
     "output_type": "execute_result"
    }
   ],
   "source": [
    "arr[0][0]"
   ]
  },
  {
   "cell_type": "code",
   "execution_count": 67,
   "id": "6a0539bc",
   "metadata": {},
   "outputs": [
    {
     "data": {
      "text/plain": [
       "[90, 90, 81]"
      ]
     },
     "execution_count": 67,
     "metadata": {},
     "output_type": "execute_result"
    }
   ],
   "source": [
    "minus"
   ]
  },
  {
   "cell_type": "code",
   "execution_count": 64,
   "id": "35cdcaba",
   "metadata": {},
   "outputs": [
    {
     "data": {
      "text/plain": [
       "40"
      ]
     },
     "execution_count": 64,
     "metadata": {},
     "output_type": "execute_result"
    }
   ],
   "source": [
    "sum(minus)"
   ]
  }
 ],
 "metadata": {
  "kernelspec": {
   "display_name": "Python 3 (ipykernel)",
   "language": "python",
   "name": "python3"
  },
  "language_info": {
   "codemirror_mode": {
    "name": "ipython",
    "version": 3
   },
   "file_extension": ".py",
   "mimetype": "text/x-python",
   "name": "python",
   "nbconvert_exporter": "python",
   "pygments_lexer": "ipython3",
   "version": "3.10.9"
  }
 },
 "nbformat": 4,
 "nbformat_minor": 5
}
